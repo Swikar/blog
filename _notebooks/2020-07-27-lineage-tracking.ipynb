{
 "cells": [
   {
    "cell_type": "markdown",
    "metadata": {},
    "source": [
     "# Record metadata on Kubeflow from Notebooks\n",
     "> Demonstration of how lineage tracking works\n",
     "\n",
     "- toc: true \n",
     "- badges: true\n",
     "- comments: true\n",
     "- categories: [jupyter]"
    ]
   },
   {
    "cell_type": "markdown",
    "metadata": {},
    "source": [
     "![](my_icons/kubeflow-metadata.png)"
    ]
   },
  {
   "cell_type": "markdown",
   "metadata": {},
   "source": [
    "# Record metadata about your models on Kubeflow from Notebooks\n",
    "\n",
    "This notebook shows you how to use Kubeflow to record metadata after build, train, and deploy models on Kubernetes.\n",
    "This notebook walks you through the following\n",
    " \n",
    "* Building an XGBoost model inside a notebook\n",
    "* Training the model inside the notebook\n",
    "* Performing inference using the model inside the notebook\n",
    "* Using Kubeflow Fairing to launch training jobs on Kubernetes\n",
    "* Using Kubeflow Fairing to build and deploy a model using [Seldon Core](https://www.seldon.io/)\n",
    "* Using [Kubeflow metadata](https://github.com/kubeflow/metadata) to record metadata about your models\n",
    "\n"
  ]
  },
  {
   "cell_type": "markdown",
   "metadata": {},
   "source": [
    "## Install Required Libraries\n",
    "\n",
    "Import the libraries required to record metadata about model."
   ]
  },
  {
   "cell_type": "code",
   "execution_count": 2,
   "metadata": {},
   "outputs": [],
   "source": [
    "from kubeflow.metadata import metadata"
   ]
  },
  {
   "cell_type": "markdown",
   "metadata": {},
   "source": [
    "## Code to record metadata \n",
    "\n",
    "* In the cells below we define some functions to record metadata about model\n",
    "* This function could just as easily be defined in a separate python module"
   ]
  },
  {
   "cell_type": "code",
   "execution_count": 6,
   "metadata": {},
   "outputs": [],
   "source": [
    "def create_workspace():\n",
    "    METADATA_STORE_HOST = \"metadata-grpc-service.kubeflow\" # default DNS of Kubeflow Metadata gRPC serivce.\n",
    "    METADATA_STORE_PORT = 8080\n",
    "    return metadata.Workspace(\n",
    "        store=metadata.Store(grpc_host=METADATA_STORE_HOST, grpc_port=METADATA_STORE_PORT),\n",
    "        name=\"xgboost-synthetic\",\n",
    "        description=\"workspace for xgboost-synthetic artifacts and executions\")"
   ]
  },
  {
   "cell_type": "markdown",
   "metadata": {},
   "source": [
    "## Wrap Training and record metadata in a class\n",
    "\n",
    "* In the cell below we wrap training in a class and record metadata\n"
   ]
  },
  {
   "cell_type": "code",
   "execution_count": 7,
   "metadata": {},
   "outputs": [],
   "source": [
    "# fairing:include-cell\n",
    "class ModelServe(object):    \n",
    "    def __init__(self, model_file=None):\n",
    "        self.n_estimators = 50\n",
    "        self.learning_rate = 0.1\n",
    "        if not model_file:\n",
    "            if \"MODEL_FILE\" in os.environ:\n",
    "                print(\"model_file not supplied; checking environment variable\")\n",
    "                model_file = os.getenv(\"MODEL_FILE\")\n",
    "            else:\n",
    "                print(\"model_file not supplied; using the default\")\n",
    "                model_file = \"mockup-model.dat\"\n",
    "        \n",
    "        self.model_file = model_file\n",
    "        print(\"model_file={0}\".format(self.model_file))\n",
    "        \n",
    "        self.model = None\n",
    "        self._workspace = None\n",
    "        self.exec = self.create_execution()\n",
    "\n",
    "    def train(self):\n",
    "        (train_X, train_y), (test_X, test_y) = read_synthetic_input()\n",
    "        \n",
    "        # Here we use Kubeflow's metadata library to record information\n",
    "        # about the training run to Kubeflow's metadata store.\n",
    "        self.exec.log_input(metadata.DataSet(\n",
    "            description=\"xgboost synthetic data\",\n",
    "            name=\"synthetic-data\",\n",
    "            owner=\"someone@kubeflow.org\",\n",
    "            uri=\"file://path/to/dataset\",\n",
    "            version=\"v1.0.0\"))\n",
    "        \n",
    "        model = train_model(train_X,\n",
    "                          train_y,\n",
    "                          test_X,\n",
    "                          test_y,\n",
    "                          self.n_estimators,\n",
    "                          self.learning_rate)\n",
    "\n",
    "        mae = eval_model(model, test_X, test_y)\n",
    "        \n",
    "        # Here we log metrics about the model to Kubeflow's metadata store.\n",
    "        self.exec.log_output(metadata.Metrics(\n",
    "            name=\"xgboost-synthetic-traing-eval\",\n",
    "            owner=\"someone@kubeflow.org\",\n",
    "            description=\"training evaluation for xgboost synthetic\",\n",
    "            uri=\"gcs://path/to/metrics\",\n",
    "            metrics_type=metadata.Metrics.VALIDATION,\n",
    "            values={\"mean_absolute_error\": mae}))\n",
    "        \n",
    "        save_model(model, self.model_file)\n",
    "        self.exec.log_output(metadata.Model(\n",
    "            name=\"housing-price-model\",\n",
    "            description=\"housing price prediction model using synthetic data\",\n",
    "            owner=\"someone@kubeflow.org\",\n",
    "            uri=self.model_file,\n",
    "            model_type=\"linear_regression\",\n",
    "            training_framework={\n",
    "                \"name\": \"xgboost\",\n",
    "                \"version\": \"0.9.0\"\n",
    "            },\n",
    "            hyperparameters={\n",
    "                \"learning_rate\": self.learning_rate,\n",
    "                \"n_estimators\": self.n_estimators\n",
    "            },\n",
    "            version=datetime.utcnow().isoformat(\"T\")))\n",
    "        \n",
    "    @property\n",
    "    def workspace(self):\n",
    "        if not self._workspace:\n",
    "            self._workspace = create_workspace()\n",
    "        return self._workspace\n",
    "    \n",
    "    def create_execution(self):                \n",
    "        r = metadata.Run(\n",
    "            workspace=self.workspace,\n",
    "            name=\"xgboost-synthetic-faring-run\" + datetime.utcnow().isoformat(\"T\"),\n",
    "            description=\"a notebook run\")\n",
    "\n",
    "        return metadata.Execution(\n",
    "            name = \"execution\" + datetime.utcnow().isoformat(\"T\"),\n",
    "            workspace=self.workspace,\n",
    "            run=r,\n",
    "            description=\"execution for training xgboost-synthetic\")"
   ]
  },
  {
   "cell_type": "code",
   "execution_count": 8,
   "metadata": {},
   "outputs": [
    {
     "name": "stderr",
     "output_type": "stream",
     "text": [
      "MetadataStore with gRPC connection initialized\n"
     ]
    }
   ],
   "source": []
  },
  {
   "cell_type": "markdown",
   "metadata": {},
   "source": [
    "## Track Models and Artifacts\n",
    "\n",
    "> youtube: https://youtu.be/DYsIrpgaucg\n",
    "\n",
    "* Using Kubeflow's metadata server you can track models and artifacts\n",
    "* The ModelServe code was instrumented to log executions and outputs\n",
    "* You can access Kubeflow's metadata UI by selecting **Artifact Store** from the central dashboard\n",
    "  * See [here](https://www.kubeflow.org/docs/other-guides/accessing-uis/) for instructions on connecting to Kubeflow's UIs\n",
    "* You can also use the python SDK to read and write entries\n",
    "* This [notebook](https://github.com/kubeflow/metadata/blob/master/sdk/python/demo.ipynb) illustrates a bunch of metadata functionality"
   ]
  },
  {
   "cell_type": "markdown",
   "metadata": {},
   "source": [
    "### Create a workspace\n",
    "\n",
    "* Kubeflow metadata uses workspaces as a logical grouping for artifacts, executions, and datasets that belong together\n",
    "* Earlier in the notebook we defined the function `create_workspace` to create a workspace for this example\n",
    "* You can use that function to return a workspace object and then call list to see all the artifacts in that workspace"
   ]
  },
  {
   "cell_type": "code",
   "execution_count": 22,
   "metadata": {},
   "outputs": [
    {
     "name": "stderr",
     "output_type": "stream",
     "text": [
      "MetadataStore with gRPC connection initialized\n"
     ]
    },
    {
     "data": {
      "text/plain": [
       "[{'id': 3,\n",
       "  'workspace': 'xgboost-synthetic',\n",
       "  'run': 'xgboost-synthetic-faring-run2020-02-26T23:26:36.443396',\n",
       "  'version': '2020-02-26T23:26:36.660862',\n",
       "  'owner': 'someone@kubeflow.org',\n",
       "  'description': 'housing price prediction model using synthetic data',\n",
       "  'name': 'housing-price-model',\n",
       "  'model_type': 'linear_regression',\n",
       "  'create_time': '2020-02-26T23:26:36.660887Z',\n",
       "  'uri': 'mockup-model.dat',\n",
       "  'training_framework': {'name': 'xgboost', 'version': '0.9.0'},\n",
       "  'hyperparameters': {'learning_rate': 0.1, 'n_estimators': 50},\n",
       "  'labels': None,\n",
       "  'kwargs': {}},\n",
       " {'id': 6,\n",
       "  'workspace': 'xgboost-synthetic',\n",
       "  'run': 'xgboost-synthetic-faring-run2020-02-26T23:27:11.144500',\n",
       "  'create_time': '2020-02-26T23:27:11.458520Z',\n",
       "  'version': '2020-02-26T23:27:11.458480',\n",
       "  'owner': 'someone@kubeflow.org',\n",
       "  'description': 'housing price prediction model using synthetic data',\n",
       "  'name': 'housing-price-model',\n",
       "  'model_type': 'linear_regression',\n",
       "  'uri': 'mockup-model.dat',\n",
       "  'training_framework': {'name': 'xgboost', 'version': '0.9.0'},\n",
       "  'hyperparameters': {'learning_rate': 0.1, 'n_estimators': 50},\n",
       "  'labels': None,\n",
       "  'kwargs': {}},\n",
       " {'id': 9,\n",
       "  'workspace': 'xgboost-synthetic',\n",
       "  'run': 'xgboost-synthetic-faring-run2020-02-26T23:30:04.636580',\n",
       "  'create_time': '2020-02-26T23:30:04.866997Z',\n",
       "  'version': '2020-02-26T23:30:04.866972',\n",
       "  'owner': 'someone@kubeflow.org',\n",
       "  'description': 'housing price prediction model using synthetic data',\n",
       "  'name': 'housing-price-model',\n",
       "  'model_type': 'linear_regression',\n",
       "  'uri': 'mockup-model.dat',\n",
       "  'training_framework': {'name': 'xgboost', 'version': '0.9.0'},\n",
       "  'hyperparameters': {'learning_rate': 0.1, 'n_estimators': 50},\n",
       "  'labels': None,\n",
       "  'kwargs': {}},\n",
       " {'id': 12,\n",
       "  'workspace': 'xgboost-synthetic',\n",
       "  'run': 'xgboost-synthetic-faring-run2020-02-26T23:44:47.344352',\n",
       "  'create_time': '2020-02-26T23:44:47.585805Z',\n",
       "  'version': '2020-02-26T23:44:47.585782',\n",
       "  'owner': 'someone@kubeflow.org',\n",
       "  'description': 'housing price prediction model using synthetic data',\n",
       "  'name': 'housing-price-model',\n",
       "  'model_type': 'linear_regression',\n",
       "  'uri': 'mockup-model.dat',\n",
       "  'training_framework': {'name': 'xgboost', 'version': '0.9.0'},\n",
       "  'hyperparameters': {'learning_rate': 0.1, 'n_estimators': 50},\n",
       "  'labels': None,\n",
       "  'kwargs': {}},\n",
       " {'id': 15,\n",
       "  'workspace': 'xgboost-synthetic',\n",
       "  'run': 'xgboost-synthetic-faring-run2020-02-26T23:48:06.287002',\n",
       "  'version': '2020-02-26T23:48:06.495138',\n",
       "  'owner': 'someone@kubeflow.org',\n",
       "  'description': 'housing price prediction model using synthetic data',\n",
       "  'name': 'housing-price-model',\n",
       "  'model_type': 'linear_regression',\n",
       "  'create_time': '2020-02-26T23:48:06.495166Z',\n",
       "  'uri': 'mockup-model.dat',\n",
       "  'training_framework': {'name': 'xgboost', 'version': '0.9.0'},\n",
       "  'hyperparameters': {'learning_rate': 0.1, 'n_estimators': 50},\n",
       "  'labels': None,\n",
       "  'kwargs': {}}]"
      ]
     },
     "execution_count": 22,
     "metadata": {},
     "output_type": "execute_result"
    }
   ],
   "source": [
    "ws = create_workspace()\n",
    "ws.list()"
   ]
  }
 ],
 "metadata": {
  "kernelspec": {
   "display_name": "Python 3",
   "language": "python",
   "name": "python3"
  },
  "language_info": {
   "codemirror_mode": {
    "name": "ipython",
    "version": 3
   },
   "file_extension": ".py",
   "mimetype": "text/x-python",
   "name": "python",
   "nbconvert_exporter": "python",
   "pygments_lexer": "ipython3",
   "version": "3.6.9"
  }
 },
 "nbformat": 4,
 "nbformat_minor": 4
}
